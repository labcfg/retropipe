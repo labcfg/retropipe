{
 "cells": [
  {
   "cell_type": "code",
   "execution_count": null,
   "metadata": {
    "collapsed": true
   },
   "outputs": [],
   "source": [
    "#################################\n",
    "# Raw FASTQ files preprocessing #\n",
    "#################################\n",
    "# \n",
    "# (Latest) library structure (may be changed):\n",
    "# [Alu primer - 12 bp][Alu sequence - 6 bp][Flank][Adapter 1 - 10 bp][Adapter 2, barcode - 9 bp][Adapter3 - 12 bp]\n",
    "# \n",
    "# R1: alu primer mate\n",
    "# R2: adapter mate\n",
    "# \n",
    "# \n",
    "# Steps:\n",
    "# - cut alu primer + alu sequence and all adapters (but save the information about the alu sequence and the barcode sequence)\n",
    "\n",
    "\n",
    "# All imports here, don't touch it unless you are a developer.\n",
    "#import preprocessing\n",
    "\n",
    "\n",
    "# Library parameters.\n",
    "ALU_PRIMER_LEN = 12\n",
    "ALU_SEQUENCE_LEN = 6\n",
    "ADAPTER_1 = 10\n",
    "BARCODE_LEN = 9\n",
    "ADAPTER_3 = 12\n",
    "\n",
    "# Input FASTQ files folder path.\n",
    "RAW_FASTQ_FOLDER = \"~/data/\"\n",
    "# Output folder for processed FASTQ files.\n",
    "OUTPUT_FASTQ_FOLDER = \"~/data/processed\"\n",
    "\n",
    "\n",
    "# preprocessing.process_raw_fastq(RAW_FASTQ_FOLDER, ...)"
   ]
  },
  {
   "cell_type": "code",
   "execution_count": null,
   "metadata": {
    "collapsed": false
   },
   "outputs": [],
   "source": [
    "######################################\n",
    "# Mapping flanks to the human genome #\n",
    "######################################\n",
    "# \n",
    "# Run bwa-mem and save the results to tables with coordinates.\n",
    "# \n",
    "\n",
    "\n",
    "BWAMEM_PATH = \"~/programs/bwamem/bwamem\"\n",
    "OUTPUT_SAM_FOLDER = \"~/data/sam\"\n",
    "OUTPUT_TABLE_FOLDER = \"~/data/coordtable\"\n",
    "\n",
    "\n",
    "# bwamem.run_bwamem(BWAMEM_PATH, OUTPUT_FASTQ_FOLDER, OUTPUT_SAM_FOLDER, OUTPUT_TABLE_FOLDER)"
   ]
  },
  {
   "cell_type": "code",
   "execution_count": null,
   "metadata": {
    "collapsed": true
   },
   "outputs": [],
   "source": []
  },
  {
   "cell_type": "code",
   "execution_count": null,
   "metadata": {
    "collapsed": true
   },
   "outputs": [],
   "source": []
  }
 ],
 "metadata": {
  "kernelspec": {
   "display_name": "Python 3",
   "language": "python",
   "name": "python3"
  },
  "language_info": {
   "codemirror_mode": {
    "name": "ipython",
    "version": 3
   },
   "file_extension": ".py",
   "mimetype": "text/x-python",
   "name": "python",
   "nbconvert_exporter": "python",
   "pygments_lexer": "ipython3",
   "version": "3.4.3"
  }
 },
 "nbformat": 4,
 "nbformat_minor": 0
}
