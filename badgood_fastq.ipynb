{
 "cells": [
  {
   "cell_type": "code",
   "execution_count": 17,
   "metadata": {
    "collapsed": false
   },
   "outputs": [],
   "source": [
    "#################################\n",
    "# Raw FASTQ files preprocessing #\n",
    "#################################\n",
    "# \n",
    "# (Latest) library structure (may be changed):\n",
    "# [Alu primer - 12 bp][Alu sequence - 6 bp][Flank][Adapter 1 - 10 bp][Adapter 2, barcode - 9 bp][Adapter3 - 12 bp]\n",
    "# \n",
    "# R1: alu primer mate\n",
    "# R2: adapter mate\n",
    "# \n",
    "# \n",
    "# Steps:\n",
    "# - separate reads into good and bad, depending on the mistake in the primers and the adapter\n",
    "#     (as well as keeps barcodes good reads in the file for good R2 and location of mistake in the file bad R1)\n",
    "\n",
    "\n",
    "# The number of permissible error:\n",
    "mist = 1\n",
    "# Primer, ad1 = Adapter 1, ad2 = Adapter 3 (aka Green)\n",
    "primer = 'GAGCCACCGCGC'\n",
    "ad1 = 'GCGTGCTGCGG'\n",
    "ad2 = 'AGGGCGGT'\n",
    "# Length of barcode\n",
    "barlen = 9\n",
    "\n",
    "# Input FASTQ files folder path.\n",
    "inputdir = '~/data/'\n",
    "# Output folder for processed FASTQ files.\n",
    "outputdir = '~/data/processed'\n",
    "\n",
    "# Check the following cell to verify the correctness of files"
   ]
  },
  {
   "cell_type": "code",
   "execution_count": 18,
   "metadata": {
    "collapsed": false
   },
   "outputs": [
    {
     "name": "stdout",
     "output_type": "stream",
     "text": [
      "Trimming files: index7.R1.fastq, index7.R2.fastq\n"
     ]
    }
   ],
   "source": [
    "from Bio import SeqIO\n",
    "import sys, argparse, os\n",
    "import numpy as np\n",
    "from os import listdir\n",
    "from os.path import isfile, join\n",
    "\n",
    "onlyfiles = [f for f in listdir(inputdir) if isfile(join(inputdir, f))]\n",
    "\n",
    "if (len(onlyfiles) != 2):\n",
    "\tsys.exit(\"Error! Need only 2 files in directory: r1.fastq and r2.fastq\")\n",
    "\n",
    "filename1 = str(onlyfiles[0])\n",
    "filename2 = str(onlyfiles[1])\n",
    "\n",
    "print ('Trimming files: ' + filename1 + ', ' + filename2)\n",
    "\n",
    "outputfile1, ext = os.path.splitext(filename1)\n",
    "outputfile2, ext = os.path.splitext(filename2)"
   ]
  },
  {
   "cell_type": "code",
   "execution_count": 19,
   "metadata": {
    "collapsed": true
   },
   "outputs": [],
   "source": [
    "goodr1 = open(outputdir + outputfile1 + '_good.fastq', 'w')\n",
    "goodr2 = open(outputdir + outputfile2 + '_good.fastq', 'w')\n",
    "badr1 = open(outputdir + outputfile1 + '_bad.fastq', 'w')\n",
    "badr2 = open(outputdir + outputfile2 + '_bad.fastq', 'w')"
   ]
  },
  {
   "cell_type": "code",
   "execution_count": 20,
   "metadata": {
    "collapsed": true
   },
   "outputs": [],
   "source": [
    "def hamming (x1, x2, m):\n",
    "\tj = 0\n",
    "\tfor i in range(len(x1)):\n",
    "\t\tif x1[i] != x2[i]:\n",
    "\t\t\tj += 1\n",
    "\t\t\tif j > m:\n",
    "\t\t\t\treturn (False)\n",
    "\treturn (True)\n",
    "\n",
    "def trim_primers(record, primer, m):\n",
    "\trecord = str(record.format('fastq'))\n",
    "\trecord = record.split('\\n')\n",
    "\trecord = record[1]\n",
    "\tbadgood = {'good':False, 'bad':np.array([0, 0, 0])}\n",
    "\tlen_primer = len(primer)\n",
    "\tham_prim = (hamming(primer, record[0:len_primer], m))or(hamming(primer, record[1:(len_primer+1)], m))\n",
    "\tif ham_prim:\n",
    "\t\tbadgood['good'] = True\n",
    "\telse:\n",
    "\t\tbadgood['bad'] = np.array([1, 0, 0])\n",
    "\treturn badgood\n",
    "\n",
    "def trim_ads(record, ad1, ad2, barlen, m):\n",
    "\trecord = str(record.format('fastq'))\n",
    "\trecord = record.split('\\n')\n",
    "\trecord = record[1]\n",
    "\tbadgood = {'good':False, 'bad':np.array([0, 0, 0]), 'barcode':None}\n",
    "\tlen_ad1 = len(ad1)\n",
    "\tlen_ad2 = len(ad2)\n",
    "\tseq1 = record[0:len_ad1]\n",
    "\tseq1_shift = record[1:(len_ad1+1)]\n",
    "\tseq2 = record[(len_ad1+barlen):(len_ad1+barlen+len_ad2)]\n",
    "\tseq2_shift = record[(len_ad1+barlen+1):(len_ad1+barlen+len_ad2+1)]\n",
    "\tham_ad1 = (hamming(ad1, seq1, m))or(hamming(ad1, seq1_shift, m))\n",
    "\tham_ad2 = (hamming(ad2, seq2, m))or(hamming(ad1, seq2_shift, m))\n",
    "\tif (ham_ad1)and(ham_ad2):\n",
    "\t\tbadgood['good'] = True\n",
    "\t\tif hamming(ad2, seq2, m) > hamming(ad1, seq2_shift, m):\n",
    "\t\t\tbadgood['barcode'] = record[len_ad1:(len_ad1+barlen)]\n",
    "\t\telse: badgood['barcode'] = record[(len_ad1+1):(len_ad1+barlen+1)]\n",
    "\telse:\n",
    "\t\tif not((ham_ad1)or(ham_ad2)):\n",
    "\t\t\tbadgood['bad'] = np.array([0, 1, 1])\n",
    "\t\telif not(ham_ad1):\n",
    "\t\t\tbadgood['bad'] = np.array([0, 1, 0])\n",
    "\t\telse:\n",
    "\t\t\tbadgood['bad'] = np.array([0, 0, 1])\n",
    "\treturn badgood\n",
    "\n",
    "def concate(x1, x2):\n",
    "\tresult = ''\n",
    "\tfor i in range(len(x1)):\n",
    "\t\tresult = result + str(x1[i]) + '-' + str(x2[i])\n",
    "\t\tif (i != (len(x1) - 1)): result = result + ','\n",
    "\treturn (result)"
   ]
  },
  {
   "cell_type": "code",
   "execution_count": 21,
   "metadata": {
    "collapsed": true
   },
   "outputs": [],
   "source": [
    "original_R1_reads = SeqIO.parse(inputdir + filename1, \"fastq\")\n",
    "original_R2_reads = SeqIO.parse(inputdir + filename2, \"fastq\")"
   ]
  },
  {
   "cell_type": "code",
   "execution_count": 22,
   "metadata": {
    "collapsed": true
   },
   "outputs": [],
   "source": [
    "count = np.array([0, 0, 0])\n",
    "elem = ('primer', 'ad', 'green')\n",
    "\n",
    "for zipi in zip(original_R1_reads, original_R2_reads):\n",
    "\tr1,r2 = zipi\n",
    "\tfr1 = trim_primers(r1, primer, mist)\n",
    "\tif fr1['good']:\n",
    "\t\tfr2 = trim_ads(r2, ad1, ad2, barlen, mist)\n",
    "\t\tif fr2['good']:\n",
    "\t\t\tgoodread = str(r2.format('fastq'))\n",
    "\t\t\tgoodread = goodread.split('\\n')\n",
    "\t\t\tgoodread[0] = goodread[0] + ' barcode:' + str(fr2['barcode'])\n",
    "\t\t\tgoodread = '\\n'.join(goodread)\n",
    "\t\t\tgoodr1.write(str(r1.format('fastq')))\n",
    "\t\t\tgoodr2.write(goodread)\n",
    "\t\telse:\n",
    "\t\t\tbadread = str(r1.format('fastq'))\n",
    "\t\t\tbadread = badread.split('\\n')\n",
    "\t\t\tbadread[0] = badread[0] + ' reason:' + concate(elem, (np.char.mod('%d', fr2['bad'])))\n",
    "\t\t\tbadread = '\\n'.join(badread)\n",
    "\t\t\tbadr1.write(badread)\n",
    "\t\t\tbadr2.write(str(r2.format('fastq')))\n",
    "\t\t\tcount = np.sum([count, fr2['bad']], axis=0)\n",
    "\telse:\n",
    "\t\tbadread = str(r1.format('fastq'))\n",
    "\t\tbadread = badread.split('\\n')\n",
    "\t\tbadread[0] = badread[0] + ' reason:' + concate(elem, (np.char.mod('%d', fr1['bad'])))\n",
    "\t\tbadread = '\\n'.join(badread)\n",
    "\t\tbadr1.write(badread)\n",
    "\t\tbadr2.write(str(r2.format('fastq')))\n",
    "\t\tcount = np.sum([count, fr1['bad']], axis=0)"
   ]
  },
  {
   "cell_type": "code",
   "execution_count": 23,
   "metadata": {
    "collapsed": true
   },
   "outputs": [],
   "source": [
    "goodr1.close()\n",
    "goodr2.close()\n",
    "badr1.close()\n",
    "badr2.close()"
   ]
  },
  {
   "cell_type": "code",
   "execution_count": 24,
   "metadata": {
    "collapsed": false
   },
   "outputs": [
    {
     "name": "stdout",
     "output_type": "stream",
     "text": [
      "[31 20 40]\n"
     ]
    }
   ],
   "source": [
    "print (count)"
   ]
  }
 ],
 "metadata": {
  "kernelspec": {
   "display_name": "Python 3",
   "language": "python",
   "name": "python3"
  },
  "language_info": {
   "codemirror_mode": {
    "name": "ipython",
    "version": 3
   },
   "file_extension": ".py",
   "mimetype": "text/x-python",
   "name": "python",
   "nbconvert_exporter": "python",
   "pygments_lexer": "ipython3",
   "version": "3.4.3"
  }
 },
 "nbformat": 4,
 "nbformat_minor": 0
}
