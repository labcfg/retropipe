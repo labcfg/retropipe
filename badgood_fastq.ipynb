{
 "cells": [
  {
   "cell_type": "code",
   "execution_count": 1,
   "metadata": {
    "collapsed": false
   },
   "outputs": [
    {
     "name": "stdout",
     "output_type": "stream",
     "text": [
      "For indextest: mistake(place-amount) = primer-1550,ad-1000,green-2000;\t\n",
      "reads: 50000, good: 0.93, bad: 0.07\n",
      "\n",
      "For index7: mistake(place-amount) = primer-31,ad-20,green-40;\t\n",
      "reads: 1000, good: 0.93, bad: 0.07\n",
      "\n"
     ]
    }
   ],
   "source": [
    "#################################\n",
    "# Raw FASTQ files preprocessing #\n",
    "#################################\n",
    "# \n",
    "# (Latest) library structure (may be changed):\n",
    "# [Alu primer - 12 bp][Alu sequence - 6 bp][Flank][Adapter 1 - 10 bp][Adapter 2, barcode - 9 bp][Adapter3 - 12 bp]\n",
    "# \n",
    "# R1: alu primer mate\n",
    "# R2: adapter mate\n",
    "# \n",
    "# \n",
    "# Steps:\n",
    "# - separate reads into good and bad, depending on the mistake in the primers and the adapter\n",
    "#     (as well as keeps barcodes good reads in the file for good R2 and location of mistake in the file bad R1)\n",
    "\n",
    "# Import module (main code)\n",
    "import trimmR\n",
    "\n",
    "# Variable parameters\n",
    "#################################\n",
    "# The number of permissible error:\n",
    "mist = 1\n",
    "# Primer, ad1 = Adapter 1, ad2 = Adapter 3 (aka Green)\n",
    "primer = 'GAGCCACCGCGC'\n",
    "ad1 = 'GCGTGCTGCGG'\n",
    "ad2 = 'AGGGCGGT'\n",
    "# Length of barcode\n",
    "barlen = 9\n",
    "\n",
    "# Input FASTQ files folder path.\n",
    "inputdir = '~/data/'\n",
    "# Output folder for processed FASTQ files.\n",
    "outputdir = '~/data/processed'\n",
    "#################################\n",
    "\n",
    "# Main function\n",
    "trimmR.main(inputdir, outputdir, mist, primer, ad1, ad2, barlen)"
   ]
  },
  {
   "cell_type": "code",
   "execution_count": null,
   "metadata": {
    "collapsed": true
   },
   "outputs": [],
   "source": []
  }
 ],
 "metadata": {
  "kernelspec": {
   "display_name": "Python 3",
   "language": "python",
   "name": "python3"
  },
  "language_info": {
   "codemirror_mode": {
    "name": "ipython",
    "version": 3
   },
   "file_extension": ".py",
   "mimetype": "text/x-python",
   "name": "python",
   "nbconvert_exporter": "python",
   "pygments_lexer": "ipython3",
   "version": "3.4.3"
  }
 },
 "nbformat": 4,
 "nbformat_minor": 0
}
